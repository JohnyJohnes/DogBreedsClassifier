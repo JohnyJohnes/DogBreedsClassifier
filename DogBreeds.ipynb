{
 "cells": [
  {
   "cell_type": "markdown",
   "metadata": {},
   "source": [
    "# Assignment 3\n",
    "## Dog Breeds\n",
    "## Arsenii Belyakov\n",
    "### 450835"
   ]
  },
  {
   "cell_type": "markdown",
   "metadata": {},
   "source": [
    "### uploading used libraries "
   ]
  },
  {
   "cell_type": "code",
   "execution_count": 1,
   "metadata": {},
   "outputs": [],
   "source": [
    "import os\n",
    "import sys\n",
    "import numpy as np\n",
    "from PIL import Image\n",
    "import tensorflow as tf\n",
    "import matplotlib.pyplot as plt\n",
    "from tensorflow.keras import Model\n",
    "from tensorflow.keras import layers\n",
    "from tensorflow.keras.optimizers import Adam\n",
    "from tensorflow.keras.models import Sequential\n",
    "from sklearn.model_selection import GridSearchCV\n",
    "from tensorflow.keras.wrappers.scikit_learn import KerasClassifier\n",
    "# from tensorflow.keras.applications.resnet_v2 import ResNet152V2\n",
    "from keras_applications.resnet import ResNet50\n",
    "from tensorflow.keras.applications.inception_v3 import InceptionV3\n",
    "from tensorflow.keras.preprocessing.image import ImageDataGenerator\n",
    "from tensorflow.keras.layers import Dense, Conv2D, Flatten, Dropout, MaxPooling2D"
   ]
  },
  {
   "cell_type": "markdown",
   "metadata": {},
   "source": [
    "## Load data"
   ]
  },
  {
   "cell_type": "code",
   "execution_count": 9,
   "metadata": {},
   "outputs": [
    {
     "name": "stdout",
     "output_type": "stream",
     "text": [
      "14400\n",
      "120\n"
     ]
    }
   ],
   "source": [
    "dataList = os.listdir(\"../stanford-dogs-dataset/images/Images/\") # os.listdir() method in python is used to get the list of all files and directories in the specified directory.\n",
    "numOfClasses = len(dataList)\n",
    "usedClasses = 30\n",
    "imageCounter = 0\n",
    "for dataClass in dataList:\n",
    "    imageCounter+=len(os.listdir(\"../stanford-dogs-dataset/images/Images/\"\n",
    "                     .format(dataClass))) # str.format() is one of the string formatting methods in Python3, which allows multiple substitutions and value formatting. \n",
    "                                    #  This method lets us concatenate elements within a string through positional formatting.\n",
    "print(imageCounter)\n",
    "print(numOfClasses)\n",
    "\n"
   ]
  },
  {
   "cell_type": "code",
   "execution_count": 10,
   "metadata": {},
   "outputs": [
    {
     "name": "stdout",
     "output_type": "stream",
     "text": [
      "120 breeds\n",
      "20580 images\n"
     ]
    }
   ],
   "source": [
    "breed_list = os.listdir(\"../stanford-dogs-dataset/images/Images/\")\n",
    "\n",
    "num_classes = len(breed_list)\n",
    "print(\"{} breeds\".format(num_classes))\n",
    "\n",
    "n_total_images = 0\n",
    "for breed in breed_list:\n",
    "    n_total_images += len(os.listdir(\"../stanford-dogs-dataset/images/Images/{}\".format(breed)))\n",
    "print(\"{} images\".format(n_total_images))"
   ]
  },
  {
   "cell_type": "code",
   "execution_count": null,
   "metadata": {},
   "outputs": [],
   "source": []
  }
 ],
 "metadata": {
  "kernelspec": {
   "display_name": "Python 3",
   "language": "python",
   "name": "python3"
  },
  "language_info": {
   "codemirror_mode": {
    "name": "ipython",
    "version": 3
   },
   "file_extension": ".py",
   "mimetype": "text/x-python",
   "name": "python",
   "nbconvert_exporter": "python",
   "pygments_lexer": "ipython3",
   "version": "3.7.3"
  }
 },
 "nbformat": 4,
 "nbformat_minor": 2
}
